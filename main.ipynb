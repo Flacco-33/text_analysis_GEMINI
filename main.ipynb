{
 "cells": [
  {
   "attachments": {},
   "cell_type": "markdown",
   "metadata": {},
   "source": [
    "# Gemini API \n",
    "\n",
    "To get started, [get an API key](https://g.co/ai/idxGetGeminiKey) and replace the word `TODO` below with your API key:"
   ]
  },
  {
   "cell_type": "code",
   "execution_count": 11,
   "metadata": {},
   "outputs": [],
   "source": [
    "API_KEY = 'TODO'"
   ]
  },
  {
   "attachments": {},
   "cell_type": "markdown",
   "metadata": {},
   "source": [
    "Once you're done, create a text prompt here:"
   ]
  },
  {
   "cell_type": "code",
   "execution_count": 12,
   "metadata": {},
   "outputs": [],
   "source": [
    "prompt = 'La clase de me hizo super aburrida, no le entendí a la clase pero por culpa del docente que no enseña como debería, ojalá tomara cursos para hacer la clase más atractiva y no aburrida., ID_TEACHER32'"
   ]
  },
  {
   "cell_type": "code",
   "execution_count": null,
   "metadata": {},
   "outputs": [],
   "source": []
  },
  {
   "attachments": {},
   "cell_type": "markdown",
   "metadata": {},
   "source": [
    "And finally, call the Gemini API using the Python client library."
   ]
  },
  {
   "cell_type": "code",
   "execution_count": 20,
   "metadata": {},
   "outputs": [
    {
     "name": "stdout",
     "output_type": "stream",
     "text": [
      "{'emotions': {'joy': 0.0, 'sadness': 0.0, 'anger': 0.3, 'neutrality': 0.1, 'distress': 0.0, 'fear': 0.0, 'surprise': 0.0, 'frustration': 0.6}, 'sentiment': 'negative', 'teacher_id': 'ID_TEACHER32'}\n"
     ]
    }
   ],
   "source": [
    "# Import necessary libraries\n",
    "import google.generativeai as genai\n",
    "from IPython.display import Markdown, clear_output, display\n",
    "import json\n",
    "import re\n",
    "# Configure the API key\n",
    "genai.configure(api_key=API_KEY)\n",
    "\n",
    "# Create the model configuration\n",
    "generation_config = {\n",
    "  \"temperature\": 0,\n",
    "  \"top_p\": 0.95,\n",
    "  \"top_k\": 64,\n",
    "  \"max_output_tokens\": 8192,\n",
    "  \"response_mime_type\": \"text/plain\",\n",
    "}\n",
    "\n",
    "# Create the GenerativeModel object\n",
    "model = genai.GenerativeModel(\n",
    "    model_name='gemini-1.5-flash', # or gemini-1.5-pro\n",
    "    generation_config=generation_config,\n",
    "    # safety_settings = Adjust safety settings\n",
    "    # See https://ai.google.dev/gemini-api/docs/safety-settings\n",
    "    system_instruction=\"You will analyze the sentences I provide. Your task has four parts:\\n1.\\tEmotions: Identify the emotions present in each sentence and assign them an intensity percentage. The emotions to consider are: joy, sadness, anger, neutrality, distress, fear, surprise, and frustration. The total sum of the percentages must be 1. The result should look something like this: {\\\"joy\\\": 0.0, \\\"sadness\\\": 0.1, \\\"anger\\\": 0.2, \\\"neutrality\\\": 0.1, \\\"distress\\\": 0.1, \\\"fear\\\": 0.0, \\\"surprise\\\": 0.0, \\\"frustration\\\": 0.5}\\n2.\\tTeacher Analysis: Determine whether the sentence expresses a positive, negative, or neutral opinion about the teacher.\\n3.\\tTeacher ID: Each sentence will include the teacher's ID at the end, following a comma (e.g., \\\"sentence_text, 20TE0164\\\"). Extract this ID and include it in the final JSON output.\\n4.\\tOutput Format: Return the result in JSON format with the following structure: {\\\"emotions\\\": {emotions_result}, \\\"sentiment\\\": {teacher_analysis_result}, \\\"teacher_id\\\": \\\"teacher_id\\\"}\\n, and do´nt use markdown, give me the response in RAW\",\n",
    "    )  \n",
    "# Generate content from the prompt\n",
    "response = model.generate_content([prompt], stream=True)\n",
    "\n",
    "# Initialize a buffer to store the response parts\n",
    "buffer = []\n",
    "# Iterate over the response chunks\n",
    "for chunk in response:\n",
    "    # Iterate over the parts of each chunk\n",
    "    for part in chunk.parts:\n",
    "        # Append the text of each part to the buffer\n",
    "        buffer.append(part.text)\n",
    "    # clear_output()\n",
    "    # display(Markdown(''.join(buffer)))\n",
    "# Concatenate the buffer to get the complete JSON response\n",
    "result_json = ''.join(buffer)\n",
    "\n",
    "# Try to decode the JSON response\n",
    "try:\n",
    "    result_dict = json.loads(result_json)\n",
    "# Handle JSON decoding errors\n",
    "except json.JSONDecodeError as e:\n",
    "    print(f\"Error al decodificar JSON: {e}\")\n",
    "    result_dict = {}\n",
    "\n",
    "# Print the decoded JSON dictionary\n",
    "print (result_dict)\n"
   ]
  }
 ],
 "metadata": {
  "kernelspec": {
   "display_name": "out",
   "language": "python",
   "name": "python3"
  },
  "language_info": {
   "codemirror_mode": {
    "name": "ipython",
    "version": 3
   },
   "file_extension": ".py",
   "mimetype": "text/x-python",
   "name": "python",
   "nbconvert_exporter": "python",
   "pygments_lexer": "ipython3",
   "version": "3.11.8"
  },
  "orig_nbformat": 4
 },
 "nbformat": 4,
 "nbformat_minor": 2
}
